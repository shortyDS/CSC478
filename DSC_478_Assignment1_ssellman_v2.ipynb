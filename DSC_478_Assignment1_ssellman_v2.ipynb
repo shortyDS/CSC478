{
 "cells": [
  {
   "cell_type": "markdown",
   "metadata": {},
   "source": [
    "## Assigment 1\n",
    "Sierra Sellman\n",
    "DSC 478"
   ]
  },
  {
   "cell_type": "markdown",
   "metadata": {},
   "source": [
    "1.Explore the general characteristics of the data as a whole: examine the means, standard deviations, and\n",
    "other statistics associated with the numerical attributes; show the distributions of values associated with\n",
    "categorical attributes; etc."
   ]
  },
  {
   "cell_type": "code",
   "execution_count": 1,
   "metadata": {},
   "outputs": [],
   "source": [
    "##Import Libraries\n",
    "import numpy as np\n",
    "import pandas as pd\n",
    "import matplotlib.pyplot as plt\n",
    "%matplotlib inline\n",
    "import os"
   ]
  },
  {
   "cell_type": "code",
   "execution_count": 2,
   "metadata": {},
   "outputs": [
    {
     "data": {
      "text/plain": [
       "'C:\\\\Users\\\\sierr\\\\DSC_478'"
      ]
     },
     "execution_count": 2,
     "metadata": {},
     "output_type": "execute_result"
    }
   ],
   "source": [
    "## Get working directory\n",
    "os.getcwd()"
   ]
  },
  {
   "cell_type": "code",
   "execution_count": 3,
   "metadata": {},
   "outputs": [
    {
     "data": {
      "text/plain": [
       "(600, 11)"
      ]
     },
     "execution_count": 3,
     "metadata": {},
     "output_type": "execute_result"
    }
   ],
   "source": [
    "## Load bank_data.csv\n",
    "banktable = pd.read_csv(\"bank_data.csv\", index_col=0)\n",
    "banktable.shape"
   ]
  },
  {
   "cell_type": "code",
   "execution_count": 4,
   "metadata": {},
   "outputs": [
    {
     "data": {
      "text/plain": [
       "age               int64\n",
       "income          float64\n",
       "children          int64\n",
       "gender           object\n",
       "region           object\n",
       "married          object\n",
       "car              object\n",
       "savings_acct     object\n",
       "current_acct     object\n",
       "mortgage         object\n",
       "pep              object\n",
       "dtype: object"
      ]
     },
     "execution_count": 4,
     "metadata": {},
     "output_type": "execute_result"
    }
   ],
   "source": [
    "## Get column data types\n",
    "banktable.dtypes"
   ]
  },
  {
   "cell_type": "code",
   "execution_count": 5,
   "metadata": {},
   "outputs": [
    {
     "data": {
      "text/html": [
       "<div>\n",
       "<style scoped>\n",
       "    .dataframe tbody tr th:only-of-type {\n",
       "        vertical-align: middle;\n",
       "    }\n",
       "\n",
       "    .dataframe tbody tr th {\n",
       "        vertical-align: top;\n",
       "    }\n",
       "\n",
       "    .dataframe thead th {\n",
       "        text-align: right;\n",
       "    }\n",
       "</style>\n",
       "<table border=\"1\" class=\"dataframe\">\n",
       "  <thead>\n",
       "    <tr style=\"text-align: right;\">\n",
       "      <th></th>\n",
       "      <th>age</th>\n",
       "      <th>income</th>\n",
       "      <th>children</th>\n",
       "    </tr>\n",
       "  </thead>\n",
       "  <tbody>\n",
       "    <tr>\n",
       "      <th>count</th>\n",
       "      <td>600.000000</td>\n",
       "      <td>600.000000</td>\n",
       "      <td>600.000000</td>\n",
       "    </tr>\n",
       "    <tr>\n",
       "      <th>mean</th>\n",
       "      <td>42.395000</td>\n",
       "      <td>27524.031217</td>\n",
       "      <td>1.011667</td>\n",
       "    </tr>\n",
       "    <tr>\n",
       "      <th>std</th>\n",
       "      <td>14.424947</td>\n",
       "      <td>12899.468246</td>\n",
       "      <td>1.056752</td>\n",
       "    </tr>\n",
       "    <tr>\n",
       "      <th>min</th>\n",
       "      <td>18.000000</td>\n",
       "      <td>5014.210000</td>\n",
       "      <td>0.000000</td>\n",
       "    </tr>\n",
       "    <tr>\n",
       "      <th>25%</th>\n",
       "      <td>30.000000</td>\n",
       "      <td>17264.500000</td>\n",
       "      <td>0.000000</td>\n",
       "    </tr>\n",
       "    <tr>\n",
       "      <th>50%</th>\n",
       "      <td>42.000000</td>\n",
       "      <td>24925.300000</td>\n",
       "      <td>1.000000</td>\n",
       "    </tr>\n",
       "    <tr>\n",
       "      <th>75%</th>\n",
       "      <td>55.250000</td>\n",
       "      <td>36172.675000</td>\n",
       "      <td>2.000000</td>\n",
       "    </tr>\n",
       "    <tr>\n",
       "      <th>max</th>\n",
       "      <td>67.000000</td>\n",
       "      <td>63130.100000</td>\n",
       "      <td>3.000000</td>\n",
       "    </tr>\n",
       "  </tbody>\n",
       "</table>\n",
       "</div>"
      ],
      "text/plain": [
       "              age        income    children\n",
       "count  600.000000    600.000000  600.000000\n",
       "mean    42.395000  27524.031217    1.011667\n",
       "std     14.424947  12899.468246    1.056752\n",
       "min     18.000000   5014.210000    0.000000\n",
       "25%     30.000000  17264.500000    0.000000\n",
       "50%     42.000000  24925.300000    1.000000\n",
       "75%     55.250000  36172.675000    2.000000\n",
       "max     67.000000  63130.100000    3.000000"
      ]
     },
     "execution_count": 5,
     "metadata": {},
     "output_type": "execute_result"
    }
   ],
   "source": [
    "##get the descriptive statistics for the numeric columns\n",
    "banktable.describe()"
   ]
  },
  {
   "cell_type": "code",
   "execution_count": 6,
   "metadata": {},
   "outputs": [
    {
     "data": {
      "text/html": [
       "<div>\n",
       "<style scoped>\n",
       "    .dataframe tbody tr th:only-of-type {\n",
       "        vertical-align: middle;\n",
       "    }\n",
       "\n",
       "    .dataframe tbody tr th {\n",
       "        vertical-align: top;\n",
       "    }\n",
       "\n",
       "    .dataframe thead th {\n",
       "        text-align: right;\n",
       "    }\n",
       "</style>\n",
       "<table border=\"1\" class=\"dataframe\">\n",
       "  <thead>\n",
       "    <tr style=\"text-align: right;\">\n",
       "      <th></th>\n",
       "      <th>gender</th>\n",
       "      <th>region</th>\n",
       "      <th>married</th>\n",
       "      <th>car</th>\n",
       "      <th>savings_acct</th>\n",
       "      <th>current_acct</th>\n",
       "      <th>mortgage</th>\n",
       "      <th>pep</th>\n",
       "    </tr>\n",
       "  </thead>\n",
       "  <tbody>\n",
       "    <tr>\n",
       "      <th>count</th>\n",
       "      <td>600</td>\n",
       "      <td>600</td>\n",
       "      <td>600</td>\n",
       "      <td>600</td>\n",
       "      <td>600</td>\n",
       "      <td>600</td>\n",
       "      <td>600</td>\n",
       "      <td>600</td>\n",
       "    </tr>\n",
       "    <tr>\n",
       "      <th>unique</th>\n",
       "      <td>2</td>\n",
       "      <td>4</td>\n",
       "      <td>2</td>\n",
       "      <td>2</td>\n",
       "      <td>2</td>\n",
       "      <td>2</td>\n",
       "      <td>2</td>\n",
       "      <td>2</td>\n",
       "    </tr>\n",
       "    <tr>\n",
       "      <th>top</th>\n",
       "      <td>FEMALE</td>\n",
       "      <td>INNER_CITY</td>\n",
       "      <td>YES</td>\n",
       "      <td>NO</td>\n",
       "      <td>YES</td>\n",
       "      <td>YES</td>\n",
       "      <td>NO</td>\n",
       "      <td>NO</td>\n",
       "    </tr>\n",
       "    <tr>\n",
       "      <th>freq</th>\n",
       "      <td>300</td>\n",
       "      <td>269</td>\n",
       "      <td>396</td>\n",
       "      <td>304</td>\n",
       "      <td>414</td>\n",
       "      <td>455</td>\n",
       "      <td>391</td>\n",
       "      <td>326</td>\n",
       "    </tr>\n",
       "  </tbody>\n",
       "</table>\n",
       "</div>"
      ],
      "text/plain": [
       "        gender      region married  car savings_acct current_acct mortgage  \\\n",
       "count      600         600     600  600          600          600      600   \n",
       "unique       2           4       2    2            2            2        2   \n",
       "top     FEMALE  INNER_CITY     YES   NO          YES          YES       NO   \n",
       "freq       300         269     396  304          414          455      391   \n",
       "\n",
       "        pep  \n",
       "count   600  \n",
       "unique    2  \n",
       "top      NO  \n",
       "freq    326  "
      ]
     },
     "execution_count": 6,
     "metadata": {},
     "output_type": "execute_result"
    }
   ],
   "source": [
    "# summary statistics of character column\n",
    "banktable.describe(include=['object'])"
   ]
  },
  {
   "cell_type": "code",
   "execution_count": 7,
   "metadata": {},
   "outputs": [
    {
     "data": {
      "text/html": [
       "<div>\n",
       "<style scoped>\n",
       "    .dataframe tbody tr th:only-of-type {\n",
       "        vertical-align: middle;\n",
       "    }\n",
       "\n",
       "    .dataframe tbody tr th {\n",
       "        vertical-align: top;\n",
       "    }\n",
       "\n",
       "    .dataframe thead th {\n",
       "        text-align: right;\n",
       "    }\n",
       "</style>\n",
       "<table border=\"1\" class=\"dataframe\">\n",
       "  <thead>\n",
       "    <tr style=\"text-align: right;\">\n",
       "      <th></th>\n",
       "      <th>age</th>\n",
       "      <th>income</th>\n",
       "      <th>children</th>\n",
       "      <th>gender</th>\n",
       "      <th>region</th>\n",
       "      <th>married</th>\n",
       "      <th>car</th>\n",
       "      <th>savings_acct</th>\n",
       "      <th>current_acct</th>\n",
       "      <th>mortgage</th>\n",
       "      <th>pep</th>\n",
       "    </tr>\n",
       "  </thead>\n",
       "  <tbody>\n",
       "    <tr>\n",
       "      <th>count</th>\n",
       "      <td>600.000000</td>\n",
       "      <td>600.000000</td>\n",
       "      <td>600.000000</td>\n",
       "      <td>600</td>\n",
       "      <td>600</td>\n",
       "      <td>600</td>\n",
       "      <td>600</td>\n",
       "      <td>600</td>\n",
       "      <td>600</td>\n",
       "      <td>600</td>\n",
       "      <td>600</td>\n",
       "    </tr>\n",
       "    <tr>\n",
       "      <th>unique</th>\n",
       "      <td>NaN</td>\n",
       "      <td>NaN</td>\n",
       "      <td>NaN</td>\n",
       "      <td>2</td>\n",
       "      <td>4</td>\n",
       "      <td>2</td>\n",
       "      <td>2</td>\n",
       "      <td>2</td>\n",
       "      <td>2</td>\n",
       "      <td>2</td>\n",
       "      <td>2</td>\n",
       "    </tr>\n",
       "    <tr>\n",
       "      <th>top</th>\n",
       "      <td>NaN</td>\n",
       "      <td>NaN</td>\n",
       "      <td>NaN</td>\n",
       "      <td>FEMALE</td>\n",
       "      <td>INNER_CITY</td>\n",
       "      <td>YES</td>\n",
       "      <td>NO</td>\n",
       "      <td>YES</td>\n",
       "      <td>YES</td>\n",
       "      <td>NO</td>\n",
       "      <td>NO</td>\n",
       "    </tr>\n",
       "    <tr>\n",
       "      <th>freq</th>\n",
       "      <td>NaN</td>\n",
       "      <td>NaN</td>\n",
       "      <td>NaN</td>\n",
       "      <td>300</td>\n",
       "      <td>269</td>\n",
       "      <td>396</td>\n",
       "      <td>304</td>\n",
       "      <td>414</td>\n",
       "      <td>455</td>\n",
       "      <td>391</td>\n",
       "      <td>326</td>\n",
       "    </tr>\n",
       "    <tr>\n",
       "      <th>mean</th>\n",
       "      <td>42.395000</td>\n",
       "      <td>27524.031217</td>\n",
       "      <td>1.011667</td>\n",
       "      <td>NaN</td>\n",
       "      <td>NaN</td>\n",
       "      <td>NaN</td>\n",
       "      <td>NaN</td>\n",
       "      <td>NaN</td>\n",
       "      <td>NaN</td>\n",
       "      <td>NaN</td>\n",
       "      <td>NaN</td>\n",
       "    </tr>\n",
       "    <tr>\n",
       "      <th>std</th>\n",
       "      <td>14.424947</td>\n",
       "      <td>12899.468246</td>\n",
       "      <td>1.056752</td>\n",
       "      <td>NaN</td>\n",
       "      <td>NaN</td>\n",
       "      <td>NaN</td>\n",
       "      <td>NaN</td>\n",
       "      <td>NaN</td>\n",
       "      <td>NaN</td>\n",
       "      <td>NaN</td>\n",
       "      <td>NaN</td>\n",
       "    </tr>\n",
       "    <tr>\n",
       "      <th>min</th>\n",
       "      <td>18.000000</td>\n",
       "      <td>5014.210000</td>\n",
       "      <td>0.000000</td>\n",
       "      <td>NaN</td>\n",
       "      <td>NaN</td>\n",
       "      <td>NaN</td>\n",
       "      <td>NaN</td>\n",
       "      <td>NaN</td>\n",
       "      <td>NaN</td>\n",
       "      <td>NaN</td>\n",
       "      <td>NaN</td>\n",
       "    </tr>\n",
       "    <tr>\n",
       "      <th>25%</th>\n",
       "      <td>30.000000</td>\n",
       "      <td>17264.500000</td>\n",
       "      <td>0.000000</td>\n",
       "      <td>NaN</td>\n",
       "      <td>NaN</td>\n",
       "      <td>NaN</td>\n",
       "      <td>NaN</td>\n",
       "      <td>NaN</td>\n",
       "      <td>NaN</td>\n",
       "      <td>NaN</td>\n",
       "      <td>NaN</td>\n",
       "    </tr>\n",
       "    <tr>\n",
       "      <th>50%</th>\n",
       "      <td>42.000000</td>\n",
       "      <td>24925.300000</td>\n",
       "      <td>1.000000</td>\n",
       "      <td>NaN</td>\n",
       "      <td>NaN</td>\n",
       "      <td>NaN</td>\n",
       "      <td>NaN</td>\n",
       "      <td>NaN</td>\n",
       "      <td>NaN</td>\n",
       "      <td>NaN</td>\n",
       "      <td>NaN</td>\n",
       "    </tr>\n",
       "    <tr>\n",
       "      <th>75%</th>\n",
       "      <td>55.250000</td>\n",
       "      <td>36172.675000</td>\n",
       "      <td>2.000000</td>\n",
       "      <td>NaN</td>\n",
       "      <td>NaN</td>\n",
       "      <td>NaN</td>\n",
       "      <td>NaN</td>\n",
       "      <td>NaN</td>\n",
       "      <td>NaN</td>\n",
       "      <td>NaN</td>\n",
       "      <td>NaN</td>\n",
       "    </tr>\n",
       "    <tr>\n",
       "      <th>max</th>\n",
       "      <td>67.000000</td>\n",
       "      <td>63130.100000</td>\n",
       "      <td>3.000000</td>\n",
       "      <td>NaN</td>\n",
       "      <td>NaN</td>\n",
       "      <td>NaN</td>\n",
       "      <td>NaN</td>\n",
       "      <td>NaN</td>\n",
       "      <td>NaN</td>\n",
       "      <td>NaN</td>\n",
       "      <td>NaN</td>\n",
       "    </tr>\n",
       "  </tbody>\n",
       "</table>\n",
       "</div>"
      ],
      "text/plain": [
       "               age        income    children  gender      region married  car  \\\n",
       "count   600.000000    600.000000  600.000000     600         600     600  600   \n",
       "unique         NaN           NaN         NaN       2           4       2    2   \n",
       "top            NaN           NaN         NaN  FEMALE  INNER_CITY     YES   NO   \n",
       "freq           NaN           NaN         NaN     300         269     396  304   \n",
       "mean     42.395000  27524.031217    1.011667     NaN         NaN     NaN  NaN   \n",
       "std      14.424947  12899.468246    1.056752     NaN         NaN     NaN  NaN   \n",
       "min      18.000000   5014.210000    0.000000     NaN         NaN     NaN  NaN   \n",
       "25%      30.000000  17264.500000    0.000000     NaN         NaN     NaN  NaN   \n",
       "50%      42.000000  24925.300000    1.000000     NaN         NaN     NaN  NaN   \n",
       "75%      55.250000  36172.675000    2.000000     NaN         NaN     NaN  NaN   \n",
       "max      67.000000  63130.100000    3.000000     NaN         NaN     NaN  NaN   \n",
       "\n",
       "       savings_acct current_acct mortgage  pep  \n",
       "count           600          600      600  600  \n",
       "unique            2            2        2    2  \n",
       "top             YES          YES       NO   NO  \n",
       "freq            414          455      391  326  \n",
       "mean            NaN          NaN      NaN  NaN  \n",
       "std             NaN          NaN      NaN  NaN  \n",
       "min             NaN          NaN      NaN  NaN  \n",
       "25%             NaN          NaN      NaN  NaN  \n",
       "50%             NaN          NaN      NaN  NaN  \n",
       "75%             NaN          NaN      NaN  NaN  \n",
       "max             NaN          NaN      NaN  NaN  "
      ]
     },
     "execution_count": 7,
     "metadata": {},
     "output_type": "execute_result"
    }
   ],
   "source": [
    "##describe all fields\n",
    "banktable.describe(include='all')"
   ]
  },
  {
   "cell_type": "code",
   "execution_count": 8,
   "metadata": {},
   "outputs": [
    {
     "data": {
      "image/png": "[encoded data removed]",
      "text/plain": [
       "<Figure size 432x288 with 1 Axes>"
      ]
     },
     "metadata": {
      "needs_background": "light"
     },
     "output_type": "display_data"
    }
   ],
   "source": [
    "##Create box plot of numeric fields\n",
    "plt.show(banktable.boxplot(column=['income']))"
   ]
  },
  {
   "cell_type": "code",
   "execution_count": 9,
   "metadata": {},
   "outputs": [
    {
     "data": {
      "image/png": "[encoded data removed]",
      "text/plain": [
       "<Figure size 432x288 with 1 Axes>"
      ]
     },
     "metadata": {
      "needs_background": "light"
     },
     "output_type": "display_data"
    }
   ],
   "source": [
    "##Create box plot of numeric fields\n",
    "plt.show(banktable.boxplot(column=['age']))"
   ]
  },
  {
   "cell_type": "code",
   "execution_count": 10,
   "metadata": {},
   "outputs": [
    {
     "data": {
      "text/plain": [
       "array([[<matplotlib.axes._subplots.AxesSubplot object at 0x00000125EF403518>,\n",
       "        <matplotlib.axes._subplots.AxesSubplot object at 0x00000125EF78D390>],\n",
       "       [<matplotlib.axes._subplots.AxesSubplot object at 0x00000125EF7B85C0>,\n",
       "        <matplotlib.axes._subplots.AxesSubplot object at 0x00000125EF7DF860>]],\n",
       "      dtype=object)"
      ]
     },
     "execution_count": 10,
     "metadata": {},
     "output_type": "execute_result"
    },
    {
     "data": {
      "image/png": "[encoded data removed]",
      "text/plain": [
       "<Figure size 432x288 with 4 Axes>"
      ]
     },
     "metadata": {
      "needs_background": "light"
     },
     "output_type": "display_data"
    }
   ],
   "source": [
    "##get an idea of the distribution of the numeric values\n",
    "banktable.hist()"
   ]
  },
  {
   "cell_type": "code",
   "execution_count": 11,
   "metadata": {},
   "outputs": [
    {
     "data": {
      "text/plain": [
       "<matplotlib.axes._subplots.AxesSubplot at 0x125ef8c4a20>"
      ]
     },
     "execution_count": 11,
     "metadata": {},
     "output_type": "execute_result"
    },
    {
     "data": {
      "image/png": "[encoded data removed]",
      "text/plain": [
       "<Figure size 432x288 with 1 Axes>"
      ]
     },
     "metadata": {
      "needs_background": "light"
     },
     "output_type": "display_data"
    }
   ],
   "source": [
    "##Create a histogram of the region column to see the distribution of the categories\n",
    "banktable['region'].value_counts().plot(kind='bar')"
   ]
  },
  {
   "cell_type": "markdown",
   "metadata": {},
   "source": [
    "Answer #1:\n",
    "Using various functions I'm able to get a better picture of this dataset.  \n",
    "\n",
    "Looking at the categorical columns: Eight of the columns are categorical, seven of which are binary values.  The 'region' field is the only categorical field that has more than two values (it has four), the largest number of which are inner city and the least are suburban.  The dataset is equally split by gender, half male and half female.  Additionally the majority of the users have a savings account, a checking acccount,  carry a mortgage, do not have a car, and have a PEP.\n",
    "\n",
    "Looking at the numerical columns: Age of the customers range from 18 to 67, number of children ranges from 0 to 3, and income ranges from $5,014 to $63,130."
   ]
  },
  {
   "cell_type": "markdown",
   "metadata": {},
   "source": [
    "2.Suppose that the hypothetical bank is particularly interested in customers who buy the PEP (Personal\n",
    "Equity Plan) product. Compare and contrast the subsets of customers who buy and don't buy the PEP.\n",
    "Compute summaries (as in part 1) of the selected data with respect to all other attributes. Can you observe\n",
    "any significant differences between these segments of customers? Discuss your observations."
   ]
  },
  {
   "cell_type": "code",
   "execution_count": 12,
   "metadata": {},
   "outputs": [
    {
     "name": "stdout",
     "output_type": "stream",
     "text": [
      "         age    income  children  gender      region married  car  \\\n",
      "id                                                                  \n",
      "ID12101   48  17546.00         1  FEMALE  INNER_CITY      NO   NO   \n",
      "ID12106   57  37869.60         2  FEMALE        TOWN     YES   NO   \n",
      "ID12107   22   8877.07         0    MALE       RURAL      NO   NO   \n",
      "ID12113   44  15735.80         1  FEMALE        TOWN     YES   NO   \n",
      "ID12114   66  55204.70         1  FEMALE        TOWN     YES  YES   \n",
      "ID12119   62  26909.20         0  FEMALE  INNER_CITY     YES   NO   \n",
      "ID12121   61  57880.70         2    MALE  INNER_CITY     YES   NO   \n",
      "ID12128   39  20114.00         1  FEMALE        TOWN     YES   NO   \n",
      "ID12130   61  24270.10         1    MALE       RURAL     YES   NO   \n",
      "ID12133   45  23443.20         1    MALE    SUBURBAN     YES  YES   \n",
      "ID12135   43  37521.90         0    MALE    SUBURBAN      NO   NO   \n",
      "ID12138   36  13381.00         0  FEMALE       RURAL      NO  YES   \n",
      "ID12141   55  26774.20         0    MALE        TOWN     YES   NO   \n",
      "ID12143   67  55716.50         2    MALE        TOWN      NO  YES   \n",
      "ID12146   64  52670.60         2    MALE  INNER_CITY     YES   NO   \n",
      "ID12147   50  13283.90         1  FEMALE  INNER_CITY      NO  YES   \n",
      "ID12148   29  13106.60         2    MALE  INNER_CITY      NO   NO   \n",
      "ID12149   52  39547.80         2    MALE  INNER_CITY      NO  YES   \n",
      "ID12153   43  16259.70         1    MALE        TOWN     YES   NO   \n",
      "ID12154   48  29794.10         1    MALE    SUBURBAN      NO   NO   \n",
      "ID12156   52  47835.80         3  FEMALE       RURAL      NO   NO   \n",
      "ID12157   58  24977.50         0  FEMALE  INNER_CITY      NO   NO   \n",
      "ID12158   28  23124.90         0    MALE  INNER_CITY     YES   NO   \n",
      "ID12160   34  25334.30         1    MALE  INNER_CITY      NO  YES   \n",
      "ID12161   42  24763.30         1  FEMALE  INNER_CITY     YES   NO   \n",
      "ID12162   65  36589.00         1  FEMALE  INNER_CITY      NO  YES   \n",
      "ID12170   31  10441.90         2  FEMALE       RURAL     YES   NO   \n",
      "ID12172   21   8062.73         0    MALE  INNER_CITY      NO   NO   \n",
      "ID12173   36  31982.00         3    MALE  INNER_CITY     YES  YES   \n",
      "ID12175   64  52674.00         2  FEMALE  INNER_CITY      NO  YES   \n",
      "...      ...       ...       ...     ...         ...     ...  ...   \n",
      "ID12634   60  29714.40         0    MALE  INNER_CITY     YES  YES   \n",
      "ID12637   53  37850.60         1  FEMALE  INNER_CITY      NO   NO   \n",
      "ID12638   61  57176.40         2  FEMALE       RURAL      NO   NO   \n",
      "ID12640   19  10191.80         0    MALE  INNER_CITY     YES   NO   \n",
      "ID12641   48  21821.40         1  FEMALE  INNER_CITY     YES  YES   \n",
      "ID12642   39  37389.00         2    MALE       RURAL     YES   NO   \n",
      "ID12644   63  48770.50         1    MALE    SUBURBAN     YES  YES   \n",
      "ID12645   46  21096.20         1    MALE       RURAL     YES  YES   \n",
      "ID12646   40  36256.90         0    MALE  INNER_CITY      NO   NO   \n",
      "ID12647   27  15281.80         0  FEMALE  INNER_CITY      NO  YES   \n",
      "ID12649   42  20736.20         1    MALE       RURAL     YES  YES   \n",
      "ID12650   58  52662.50         1  FEMALE        TOWN     YES  YES   \n",
      "ID12657   43  18565.80         1  FEMALE       RURAL     YES  YES   \n",
      "ID12660   67  24858.40         0  FEMALE    SUBURBAN     YES   NO   \n",
      "ID12661   40  16398.80         1    MALE  INNER_CITY      NO   NO   \n",
      "ID12662   25  23287.90         0  FEMALE    SUBURBAN      NO   NO   \n",
      "ID12664   32  22446.50         1  FEMALE  INNER_CITY      NO   NO   \n",
      "ID12665   44  23092.10         0    MALE    SUBURBAN     YES  YES   \n",
      "ID12670   49  17944.20         1    MALE  INNER_CITY      NO  YES   \n",
      "ID12673   33  27712.90         2  FEMALE    SUBURBAN      NO   NO   \n",
      "ID12677   24  19160.30         1  FEMALE        TOWN     YES  YES   \n",
      "ID12678   62  45342.50         0    MALE        TOWN     YES  YES   \n",
      "ID12681   63  51879.30         2    MALE    SUBURBAN     YES  YES   \n",
      "ID12685   33  23528.40         1    MALE        TOWN     YES   NO   \n",
      "ID12687   20  18364.90         1    MALE  INNER_CITY     YES   NO   \n",
      "ID12688   43  31273.80         1  FEMALE        TOWN      NO  YES   \n",
      "ID12692   40  31473.90         2  FEMALE  INNER_CITY      NO   NO   \n",
      "ID12694   65  51417.00         2    MALE    SUBURBAN     YES   NO   \n",
      "ID12698   31  15976.30         0  FEMALE        TOWN     YES  YES   \n",
      "ID12700   38  26671.60         0    MALE        TOWN      NO  YES   \n",
      "\n",
      "        savings_acct current_acct mortgage  pep  \n",
      "id                                               \n",
      "ID12101           NO           NO       NO  YES  \n",
      "ID12106          YES          YES       NO  YES  \n",
      "ID12107           NO          YES       NO  YES  \n",
      "ID12113          YES          YES      YES  YES  \n",
      "ID12114          YES          YES      YES  YES  \n",
      "ID12119          YES           NO       NO  YES  \n",
      "ID12121          YES           NO       NO  YES  \n",
      "ID12128           NO          YES       NO  YES  \n",
      "ID12130           NO          YES       NO  YES  \n",
      "ID12133          YES          YES       NO  YES  \n",
      "ID12135          YES          YES       NO  YES  \n",
      "ID12138           NO          YES       NO  YES  \n",
      "ID12141           NO          YES      YES  YES  \n",
      "ID12143          YES           NO       NO  YES  \n",
      "ID12146          YES          YES      YES  YES  \n",
      "ID12147          YES          YES       NO  YES  \n",
      "ID12148          YES          YES      YES  YES  \n",
      "ID12149           NO          YES       NO  YES  \n",
      "ID12153          YES          YES       NO  YES  \n",
      "ID12154          YES          YES       NO  YES  \n",
      "ID12156          YES           NO       NO  YES  \n",
      "ID12157           NO          YES       NO  YES  \n",
      "ID12158          YES          YES       NO  YES  \n",
      "ID12160          YES          YES      YES  YES  \n",
      "ID12161          YES          YES      YES  YES  \n",
      "ID12162           NO          YES       NO  YES  \n",
      "ID12170           NO          YES       NO  YES  \n",
      "ID12172           NO          YES       NO  YES  \n",
      "ID12173          YES          YES      YES  YES  \n",
      "ID12175          YES          YES       NO  YES  \n",
      "...              ...          ...      ...  ...  \n",
      "ID12634           NO          YES      YES  YES  \n",
      "ID12637          YES          YES       NO  YES  \n",
      "ID12638          YES          YES       NO  YES  \n",
      "ID12640          YES          YES      YES  YES  \n",
      "ID12641          YES           NO      YES  YES  \n",
      "ID12642          YES          YES       NO  YES  \n",
      "ID12644          YES           NO      YES  YES  \n",
      "ID12645          YES          YES       NO  YES  \n",
      "ID12646           NO          YES      YES  YES  \n",
      "ID12647           NO           NO      YES  YES  \n",
      "ID12649          YES          YES       NO  YES  \n",
      "ID12650          YES          YES      YES  YES  \n",
      "ID12657          YES          YES      YES  YES  \n",
      "ID12660           NO          YES      YES  YES  \n",
      "ID12661          YES          YES       NO  YES  \n",
      "ID12662           NO          YES      YES  YES  \n",
      "ID12664           NO          YES      YES  YES  \n",
      "ID12665           NO          YES      YES  YES  \n",
      "ID12670          YES          YES      YES  YES  \n",
      "ID12673          YES          YES       NO  YES  \n",
      "ID12677          YES          YES       NO  YES  \n",
      "ID12678          YES           NO       NO  YES  \n",
      "ID12681          YES           NO      YES  YES  \n",
      "ID12685          YES          YES      YES  YES  \n",
      "ID12687           NO          YES       NO  YES  \n",
      "ID12688          YES           NO       NO  YES  \n",
      "ID12692          YES          YES      YES  YES  \n",
      "ID12694          YES          YES       NO  YES  \n",
      "ID12698          YES           NO       NO  YES  \n",
      "ID12700           NO          YES      YES  YES  \n",
      "\n",
      "[274 rows x 11 columns]\n"
     ]
    }
   ],
   "source": [
    "## filter for records where pep is yes (274 records are YES)\n",
    "PEP = banktable.pep=='YES'\n",
    "print(banktable[PEP])"
   ]
  },
  {
   "cell_type": "code",
   "execution_count": 13,
   "metadata": {},
   "outputs": [
    {
     "name": "stdout",
     "output_type": "stream",
     "text": [
      "(274, 11)\n",
      "              age        income    children\n",
      "count  274.000000    274.000000  274.000000\n",
      "mean    45.127737  30644.919453    0.945255\n",
      "std     14.327991  13609.613043    0.860571\n",
      "min     18.000000   7756.360000    0.000000\n",
      "25%     34.000000  19639.475000    0.000000\n",
      "50%     45.000000  28080.050000    1.000000\n",
      "75%     58.000000  38458.350000    1.000000\n",
      "max     67.000000  63130.100000    3.000000\n"
     ]
    },
    {
     "data": {
      "text/plain": [
       "<matplotlib.axes._subplots.AxesSubplot at 0x125ef9346d8>"
      ]
     },
     "execution_count": 13,
     "metadata": {},
     "output_type": "execute_result"
    },
    {
     "data": {
      "image/png": "[encoded data removed]",
      "text/plain": [
       "<Figure size 432x288 with 1 Axes>"
      ]
     },
     "metadata": {
      "needs_background": "light"
     },
     "output_type": "display_data"
    }
   ],
   "source": [
    "#create a new data frame that only contains records where the pep value is yes\n",
    "banktable_PEP = banktable[PEP]\n",
    "print(banktable_PEP.shape)\n",
    "print(banktable_PEP.describe())\n",
    "banktable_PEP['region'].value_counts().plot(kind='bar')"
   ]
  },
  {
   "cell_type": "code",
   "execution_count": 14,
   "metadata": {},
   "outputs": [
    {
     "data": {
      "text/plain": [
       "array([[<matplotlib.axes._subplots.AxesSubplot object at 0x00000125EF944630>,\n",
       "        <matplotlib.axes._subplots.AxesSubplot object at 0x00000125EF700F28>],\n",
       "       [<matplotlib.axes._subplots.AxesSubplot object at 0x00000125EF6944A8>,\n",
       "        <matplotlib.axes._subplots.AxesSubplot object at 0x00000125EF96DA20>]],\n",
       "      dtype=object)"
      ]
     },
     "execution_count": 14,
     "metadata": {},
     "output_type": "execute_result"
    },
    {
     "data": {
      "image/png": "[encoded data removed]",
      "text/plain": [
       "<Figure size 432x288 with 4 Axes>"
      ]
     },
     "metadata": {
      "needs_background": "light"
     },
     "output_type": "display_data"
    }
   ],
   "source": [
    "##get an idea of the distribution of the numeric values\n",
    "banktable_PEP.hist()"
   ]
  },
  {
   "cell_type": "code",
   "execution_count": 15,
   "metadata": {},
   "outputs": [
    {
     "name": "stdout",
     "output_type": "stream",
     "text": [
      "(326, 11)\n",
      "              age        income    children\n",
      "count  326.000000    326.000000  326.000000\n",
      "mean    40.098160  24900.953374    1.067485\n",
      "std     14.123506  11661.123422    1.195524\n",
      "min     18.000000   5014.210000    0.000000\n",
      "25%     27.000000  15366.475000    0.000000\n",
      "50%     40.000000  23105.000000    0.000000\n",
      "75%     51.000000  31210.900000    2.000000\n",
      "max     67.000000  61554.600000    3.000000\n"
     ]
    }
   ],
   "source": [
    "#filter for records where pep is no (326 records are NO)\n",
    "nonPEP = banktable.pep=='NO'\n",
    "\n",
    "#make a new dataframe that only contains records where PEP = NO\n",
    "banktable_nonPEP = banktable[nonPEP]\n",
    "print(banktable_nonPEP.shape)\n",
    "print(banktable_nonPEP.describe())"
   ]
  },
  {
   "cell_type": "code",
   "execution_count": 33,
   "metadata": {},
   "outputs": [
    {
     "data": {
      "text/plain": [
       "array([[<matplotlib.axes._subplots.AxesSubplot object at 0x000001A1ECE87B00>,\n",
       "        <matplotlib.axes._subplots.AxesSubplot object at 0x000001A1ECEB5908>],\n",
       "       [<matplotlib.axes._subplots.AxesSubplot object at 0x000001A1ECEDBB70>,\n",
       "        <matplotlib.axes._subplots.AxesSubplot object at 0x000001A1ECF05DD8>]],\n",
       "      dtype=object)"
      ]
     },
     "execution_count": 33,
     "metadata": {},
     "output_type": "execute_result"
    },
    {
     "data": {
      "image/png": "[encoded data removed]",
      "text/plain": [
       "<Figure size 432x288 with 4 Axes>"
      ]
     },
     "metadata": {
      "needs_background": "light"
     },
     "output_type": "display_data"
    }
   ],
   "source": [
    "#Generate some charts to see the distribution of values for PEP=no\n",
    "banktable_nonPEP.hist()"
   ]
  },
  {
   "cell_type": "code",
   "execution_count": 16,
   "metadata": {},
   "outputs": [
    {
     "data": {
      "text/plain": [
       "<matplotlib.axes._subplots.AxesSubplot at 0x125ef99eda0>"
      ]
     },
     "execution_count": 16,
     "metadata": {},
     "output_type": "execute_result"
    },
    {
     "data": {
      "image/png": "[encoded data removed]",
      "text/plain": [
       "<Figure size 432x288 with 1 Axes>"
      ]
     },
     "metadata": {
      "needs_background": "light"
     },
     "output_type": "display_data"
    }
   ],
   "source": [
    "#see if regions categories changed\n",
    "banktable_nonPEP['region'].value_counts().plot(kind='bar')"
   ]
  },
  {
   "cell_type": "code",
   "execution_count": 17,
   "metadata": {},
   "outputs": [
    {
     "name": "stdout",
     "output_type": "stream",
     "text": [
      "               age        income    children gender      region married  car  \\\n",
      "count   274.000000    274.000000  274.000000    274         274     274  274   \n",
      "unique         NaN           NaN         NaN      2           4       2    2   \n",
      "top            NaN           NaN         NaN   MALE  INNER_CITY     YES  YES   \n",
      "freq           NaN           NaN         NaN    144         123     154  138   \n",
      "mean     45.127737  30644.919453    0.945255    NaN         NaN     NaN  NaN   \n",
      "std      14.327991  13609.613043    0.860571    NaN         NaN     NaN  NaN   \n",
      "min      18.000000   7756.360000    0.000000    NaN         NaN     NaN  NaN   \n",
      "25%      34.000000  19639.475000    0.000000    NaN         NaN     NaN  NaN   \n",
      "50%      45.000000  28080.050000    1.000000    NaN         NaN     NaN  NaN   \n",
      "75%      58.000000  38458.350000    1.000000    NaN         NaN     NaN  NaN   \n",
      "max      67.000000  63130.100000    3.000000    NaN         NaN     NaN  NaN   \n",
      "\n",
      "       savings_acct current_acct mortgage  pep  \n",
      "count           274          274      274  274  \n",
      "unique            2            2        2    1  \n",
      "top             YES          YES       NO  YES  \n",
      "freq            179          211      182  274  \n",
      "mean            NaN          NaN      NaN  NaN  \n",
      "std             NaN          NaN      NaN  NaN  \n",
      "min             NaN          NaN      NaN  NaN  \n",
      "25%             NaN          NaN      NaN  NaN  \n",
      "50%             NaN          NaN      NaN  NaN  \n",
      "75%             NaN          NaN      NaN  NaN  \n",
      "max             NaN          NaN      NaN  NaN  \n",
      "               age        income    children  gender      region married  car  \\\n",
      "count   326.000000    326.000000  326.000000     326         326     326  326   \n",
      "unique         NaN           NaN         NaN       2           4       2    2   \n",
      "top            NaN           NaN         NaN  FEMALE  INNER_CITY     YES   NO   \n",
      "freq           NaN           NaN         NaN     170         146     242  168   \n",
      "mean     40.098160  24900.953374    1.067485     NaN         NaN     NaN  NaN   \n",
      "std      14.123506  11661.123422    1.195524     NaN         NaN     NaN  NaN   \n",
      "min      18.000000   5014.210000    0.000000     NaN         NaN     NaN  NaN   \n",
      "25%      27.000000  15366.475000    0.000000     NaN         NaN     NaN  NaN   \n",
      "50%      40.000000  23105.000000    0.000000     NaN         NaN     NaN  NaN   \n",
      "75%      51.000000  31210.900000    2.000000     NaN         NaN     NaN  NaN   \n",
      "max      67.000000  61554.600000    3.000000     NaN         NaN     NaN  NaN   \n",
      "\n",
      "       savings_acct current_acct mortgage  pep  \n",
      "count           326          326      326  326  \n",
      "unique            2            2        2    1  \n",
      "top             YES          YES       NO   NO  \n",
      "freq            235          244      209  326  \n",
      "mean            NaN          NaN      NaN  NaN  \n",
      "std             NaN          NaN      NaN  NaN  \n",
      "min             NaN          NaN      NaN  NaN  \n",
      "25%             NaN          NaN      NaN  NaN  \n",
      "50%             NaN          NaN      NaN  NaN  \n",
      "75%             NaN          NaN      NaN  NaN  \n",
      "max             NaN          NaN      NaN  NaN  \n"
     ]
    }
   ],
   "source": [
    "#see distribution for all fields\n",
    "print(banktable_PEP.describe(include='all'))\n",
    "print(banktable_nonPEP.describe(include='all'))"
   ]
  },
  {
   "cell_type": "markdown",
   "metadata": {},
   "source": [
    "Answer #2:\n",
    "Overall, it does appear that there are some differences on the customers that have PEP and those that do not.  Comparing the histograms of the numeric values, it appears that useres with PEP tend to be older (average age is 45), have more children (majority have 1), and have a higher average income (average income is $30,644.92).  While the non-PEP customers tend to be younger (average age is 40), have fewer children (majority have zero), and lower average income (average income is $24,900.95).  The major difference in categorical data is that the majority of the customers whom do not have a PEP also do not have a car and tend to be female.  While those with a PEP, the majority have a car and are male.  It appears that they have similar distribution across the four region values.\n",
    "In summary, it seems that older and more affluent individuals have a PEP, while those that are younger and less affluent do not have a PEP."
   ]
  },
  {
   "cell_type": "markdown",
   "metadata": {},
   "source": [
    "3.Use z-score normalization to standardize the values of the income attribute. [Do not change the original\n",
    "income attribute in the table.]"
   ]
  },
  {
   "cell_type": "code",
   "execution_count": 18,
   "metadata": {},
   "outputs": [
    {
     "data": {
      "text/plain": [
       "id\n",
       "ID12101   -0.773523\n",
       "ID12102    0.198541\n",
       "ID12103   -0.848766\n",
       "ID12104   -0.554180\n",
       "ID12105    1.787071\n",
       "Name: income, dtype: float64"
      ]
     },
     "execution_count": 18,
     "metadata": {},
     "output_type": "execute_result"
    }
   ],
   "source": [
    "#calculat the z-score for income values to standardize the field\n",
    "income_z = (banktable[\"income\"] - banktable[\"income\"].mean()) / banktable[\"income\"].std()\n",
    "income_z.head(5)"
   ]
  },
  {
   "cell_type": "markdown",
   "metadata": {},
   "source": [
    "4.Discretize the age attribute into 3 categories (corresponding to \"young\", \"mid-age\", and \"old\"). [Do not\n",
    "change the original age attribute in the table.]"
   ]
  },
  {
   "cell_type": "code",
   "execution_count": 19,
   "metadata": {},
   "outputs": [
    {
     "data": {
      "text/plain": [
       "(id\n",
       " ID12101    mid-age\n",
       " ID12102    mid-age\n",
       " ID12103        old\n",
       " ID12104      young\n",
       " ID12105        old\n",
       " ID12106        old\n",
       " ID12107      young\n",
       " ID12108        old\n",
       " ID12109    mid-age\n",
       " ID12110        old\n",
       " ID12111        old\n",
       " ID12112        old\n",
       " ID12113    mid-age\n",
       " ID12114        old\n",
       " ID12115    mid-age\n",
       " ID12116    mid-age\n",
       " ID12117    mid-age\n",
       " ID12118    mid-age\n",
       " ID12119        old\n",
       " ID12120      young\n",
       " ID12121        old\n",
       " ID12122        old\n",
       " ID12123        old\n",
       " ID12124      young\n",
       " ID12125      young\n",
       " ID12126        old\n",
       " ID12127    mid-age\n",
       " ID12128    mid-age\n",
       " ID12129    mid-age\n",
       " ID12130        old\n",
       "             ...   \n",
       " ID12671    mid-age\n",
       " ID12672    mid-age\n",
       " ID12673      young\n",
       " ID12674    mid-age\n",
       " ID12675    mid-age\n",
       " ID12676    mid-age\n",
       " ID12677      young\n",
       " ID12678        old\n",
       " ID12679      young\n",
       " ID12680    mid-age\n",
       " ID12681        old\n",
       " ID12682      young\n",
       " ID12683    mid-age\n",
       " ID12684    mid-age\n",
       " ID12685      young\n",
       " ID12686      young\n",
       " ID12687      young\n",
       " ID12688    mid-age\n",
       " ID12689        old\n",
       " ID12690      young\n",
       " ID12691      young\n",
       " ID12692    mid-age\n",
       " ID12693    mid-age\n",
       " ID12694        old\n",
       " ID12695        old\n",
       " ID12696        old\n",
       " ID12697      young\n",
       " ID12698      young\n",
       " ID12699      young\n",
       " ID12700    mid-age\n",
       " Name: age, Length: 600, dtype: category\n",
       " Categories (3, object): [young < mid-age < old], array([18., 35., 49., 67.]))"
      ]
     },
     "execution_count": 19,
     "metadata": {},
     "output_type": "execute_result"
    }
   ],
   "source": [
    "#Come up with three bins for age\n",
    "#considering the ages range from 18 to 67\n",
    "age_bins = pd.qcut(banktable.age, [0, .33, .66, 1], labels=[\"young\", \"mid-age\", \"old\"], retbins=True)\n",
    "age_bins"
   ]
  },
  {
   "cell_type": "markdown",
   "metadata": {},
   "source": [
    "5.Use Min-Max Normalization to transform the values of all numeric attributes (income, age, children) in\n",
    "the original table (before the transforamtions in parts 3 and 4 above) onto the range 0.0-1.0."
   ]
  },
  {
   "cell_type": "code",
   "execution_count": 22,
   "metadata": {},
   "outputs": [
    {
     "name": "stdout",
     "output_type": "stream",
     "text": [
      "id\n",
      "ID12101    0.215634\n",
      "ID12102    0.431395\n",
      "ID12103    0.198933\n",
      "ID12104    0.264320\n",
      "ID12105    0.783987\n",
      "ID12106    0.565343\n",
      "ID12107    0.066468\n",
      "ID12108    0.342977\n",
      "ID12109    0.349132\n",
      "ID12110    0.330338\n",
      "Name: income, dtype: float64\n",
      "id\n",
      "ID12101    0.612245\n",
      "ID12102    0.448980\n",
      "ID12103    0.673469\n",
      "ID12104    0.102041\n",
      "ID12105    0.795918\n",
      "ID12106    0.795918\n",
      "ID12107    0.081633\n",
      "ID12108    0.816327\n",
      "ID12109    0.387755\n",
      "ID12110    0.734694\n",
      "Name: age, dtype: float64\n",
      "id\n",
      "ID12101    0.333333\n",
      "ID12102    1.000000\n",
      "ID12103    0.000000\n",
      "ID12104    1.000000\n",
      "ID12105    0.000000\n",
      "ID12106    0.666667\n",
      "ID12107    0.000000\n",
      "ID12108    0.000000\n",
      "ID12109    0.666667\n",
      "ID12110    0.666667\n",
      "Name: children, dtype: float64\n",
      "         age    income  children  gender      region married  car  \\\n",
      "id                                                                  \n",
      "ID12101   48  17546.00         1  FEMALE  INNER_CITY      NO   NO   \n",
      "ID12102   40  30085.10         3    MALE        TOWN     YES  YES   \n",
      "ID12103   51  16575.40         0  FEMALE  INNER_CITY     YES  YES   \n",
      "ID12104   23  20375.40         3  FEMALE        TOWN     YES   NO   \n",
      "ID12105   57  50576.30         0  FEMALE       RURAL     YES   NO   \n",
      "ID12106   57  37869.60         2  FEMALE        TOWN     YES   NO   \n",
      "ID12107   22   8877.07         0    MALE       RURAL      NO   NO   \n",
      "ID12108   58  24946.60         0    MALE        TOWN     YES  YES   \n",
      "ID12109   37  25304.30         2  FEMALE    SUBURBAN     YES  YES   \n",
      "ID12110   54  24212.10         2    MALE        TOWN     YES  YES   \n",
      "\n",
      "        savings_acct current_acct mortgage  pep  \n",
      "id                                               \n",
      "ID12101           NO           NO       NO  YES  \n",
      "ID12102           NO          YES      YES   NO  \n",
      "ID12103          YES          YES       NO   NO  \n",
      "ID12104           NO          YES       NO   NO  \n",
      "ID12105          YES           NO       NO   NO  \n",
      "ID12106          YES          YES       NO  YES  \n",
      "ID12107           NO          YES       NO  YES  \n",
      "ID12108          YES          YES       NO   NO  \n",
      "ID12109           NO           NO       NO   NO  \n",
      "ID12110          YES          YES       NO   NO  \n",
      "              age    income  children  gender      region married  car  \\\n",
      "id                                                                       \n",
      "ID12101  0.612245  0.215634  0.333333  FEMALE  INNER_CITY      NO   NO   \n",
      "ID12102  0.448980  0.431395  1.000000    MALE        TOWN     YES  YES   \n",
      "ID12103  0.673469  0.198933  0.000000  FEMALE  INNER_CITY     YES  YES   \n",
      "ID12104  0.102041  0.264320  1.000000  FEMALE        TOWN     YES   NO   \n",
      "ID12105  0.795918  0.783987  0.000000  FEMALE       RURAL     YES   NO   \n",
      "ID12106  0.795918  0.565343  0.666667  FEMALE        TOWN     YES   NO   \n",
      "ID12107  0.081633  0.066468  0.000000    MALE       RURAL      NO   NO   \n",
      "ID12108  0.816327  0.342977  0.000000    MALE        TOWN     YES  YES   \n",
      "ID12109  0.387755  0.349132  0.666667  FEMALE    SUBURBAN     YES  YES   \n",
      "ID12110  0.734694  0.330338  0.666667    MALE        TOWN     YES  YES   \n",
      "\n",
      "        savings_acct current_acct mortgage  pep  \n",
      "id                                               \n",
      "ID12101           NO           NO       NO  YES  \n",
      "ID12102           NO          YES      YES   NO  \n",
      "ID12103          YES          YES       NO   NO  \n",
      "ID12104           NO          YES       NO   NO  \n",
      "ID12105          YES           NO       NO   NO  \n",
      "ID12106          YES          YES       NO  YES  \n",
      "ID12107           NO          YES       NO  YES  \n",
      "ID12108          YES          YES       NO   NO  \n",
      "ID12109           NO           NO       NO   NO  \n",
      "ID12110          YES          YES       NO   NO  \n"
     ]
    }
   ],
   "source": [
    "#first test my min-max normalization calculation before replacing the values\n",
    "#income: min is 5014.21 and the max is 63130.10\n",
    "#norm_sal = (vstable[\"Income\"] - min_sal) / (max_sal-min_sal)\n",
    "inc_min = banktable[\"income\"].min()\n",
    "inc_max = banktable[\"income\"].max()\n",
    "income_minmax = ((banktable[\"income\"] - inc_min) / (inc_max-inc_min)) * (1-0)\n",
    "print(income_minmax.head(10))\n",
    "\n",
    "\n",
    "#age: min is 18 and max is 67\n",
    "age_min = banktable[\"age\"].min()\n",
    "age_max = banktable[\"age\"].max()\n",
    "age_minmax = ((banktable[\"age\"] - age_min) / (age_max-age_min)) * (1-0)\n",
    "print(age_minmax.head(10))\n",
    "\n",
    "\n",
    "#children: min is 0 and max is 3\n",
    "kids_min = banktable[\"children\"].min()\n",
    "kids_max = banktable[\"children\"].max()\n",
    "children_minmax = ((banktable[\"children\"] - kids_min) / (kids_max-kids_min)) * (1-0)\n",
    "print(children_minmax.head(10))\n",
    "\n",
    "\n",
    "#now change the values in the original table\n",
    "print(banktable.head(10))\n",
    "banktable['income'] = income_minmax\n",
    "banktable['age'] = age_minmax\n",
    "banktable['children'] = children_minmax\n",
    "print(banktable.head(10))"
   ]
  },
  {
   "cell_type": "markdown",
   "metadata": {},
   "source": [
    "6.Convert the table (after normalization in part 5) into the standard spreadsheet format. Note that this\n",
    "requires converting each categorical attribute into multiple binary (\"dummy\") attributes (one for each values\n",
    "of the categorical attribute) and assigning binary values corresponding to the presence or not presence of\n",
    "the attribute value in the original record). The numeric attributes should remain unchanged. Save this new\n",
    "table into a file called bank_numeric.csv and submit it along with your assignment. [Hint: you might\n",
    "consider using the get_dummies for Pandas data frames.]"
   ]
  },
  {
   "cell_type": "code",
   "execution_count": 23,
   "metadata": {},
   "outputs": [
    {
     "name": "stdout",
     "output_type": "stream",
     "text": [
      "              age    income  children  gender_FEMALE  gender_MALE  \\\n",
      "id                                                                  \n",
      "ID12101  0.612245  0.215634  0.333333              1            0   \n",
      "ID12102  0.448980  0.431395  1.000000              0            1   \n",
      "ID12103  0.673469  0.198933  0.000000              1            0   \n",
      "ID12104  0.102041  0.264320  1.000000              1            0   \n",
      "ID12105  0.795918  0.783987  0.000000              1            0   \n",
      "ID12106  0.795918  0.565343  0.666667              1            0   \n",
      "ID12107  0.081633  0.066468  0.000000              0            1   \n",
      "ID12108  0.816327  0.342977  0.000000              0            1   \n",
      "ID12109  0.387755  0.349132  0.666667              1            0   \n",
      "ID12110  0.734694  0.330338  0.666667              0            1   \n",
      "\n",
      "         region_INNER_CITY  region_RURAL  region_SUBURBAN  region_TOWN  \\\n",
      "id                                                                       \n",
      "ID12101                  1             0                0            0   \n",
      "ID12102                  0             0                0            1   \n",
      "ID12103                  1             0                0            0   \n",
      "ID12104                  0             0                0            1   \n",
      "ID12105                  0             1                0            0   \n",
      "ID12106                  0             0                0            1   \n",
      "ID12107                  0             1                0            0   \n",
      "ID12108                  0             0                0            1   \n",
      "ID12109                  0             0                1            0   \n",
      "ID12110                  0             0                0            1   \n",
      "\n",
      "         married_NO   ...     car_NO  car_YES  savings_acct_NO  \\\n",
      "id                    ...                                        \n",
      "ID12101           1   ...          1        0                1   \n",
      "ID12102           0   ...          0        1                1   \n",
      "ID12103           0   ...          0        1                0   \n",
      "ID12104           0   ...          1        0                1   \n",
      "ID12105           0   ...          1        0                0   \n",
      "ID12106           0   ...          1        0                0   \n",
      "ID12107           1   ...          1        0                1   \n",
      "ID12108           0   ...          0        1                0   \n",
      "ID12109           0   ...          0        1                1   \n",
      "ID12110           0   ...          0        1                0   \n",
      "\n",
      "         savings_acct_YES  current_acct_NO  current_acct_YES  mortgage_NO  \\\n",
      "id                                                                          \n",
      "ID12101                 0                1                 0            1   \n",
      "ID12102                 0                0                 1            0   \n",
      "ID12103                 1                0                 1            1   \n",
      "ID12104                 0                0                 1            1   \n",
      "ID12105                 1                1                 0            1   \n",
      "ID12106                 1                0                 1            1   \n",
      "ID12107                 0                0                 1            1   \n",
      "ID12108                 1                0                 1            1   \n",
      "ID12109                 0                1                 0            1   \n",
      "ID12110                 1                0                 1            1   \n",
      "\n",
      "         mortgage_YES  pep_NO  pep_YES  \n",
      "id                                      \n",
      "ID12101             0       0        1  \n",
      "ID12102             1       1        0  \n",
      "ID12103             0       1        0  \n",
      "ID12104             0       1        0  \n",
      "ID12105             0       1        0  \n",
      "ID12106             0       0        1  \n",
      "ID12107             0       0        1  \n",
      "ID12108             0       1        0  \n",
      "ID12109             0       1        0  \n",
      "ID12110             0       1        0  \n",
      "\n",
      "[10 rows x 21 columns]\n"
     ]
    }
   ],
   "source": [
    "bank_numeric = pd.get_dummies(banktable)\n",
    "#export to .csv\n",
    "bank_numeric.to_csv(\"bank_numeric2.csv\")\n",
    "print(bank_numeric.head(10))\n"
   ]
  },
  {
   "cell_type": "markdown",
   "metadata": {},
   "source": [
    "7.Using the standardized data set (of the previous part), perform basic correlation analysis among the\n",
    "attributes. Discuss your results by indicating any significant positive or negative correlations among pairs of\n",
    "attributes. You need to construct a complete Correlation Matrix. Be sure to first remove the Customer ID\n",
    "column before creating the correlation matrix. [Hint:you can create the correlation matrix by using\n",
    "the corr() function in Pandas or corrcoef function in NumPy]."
   ]
  },
  {
   "cell_type": "code",
   "execution_count": 24,
   "metadata": {},
   "outputs": [
    {
     "data": {
      "text/html": [
       "<div>\n",
       "<style scoped>\n",
       "    .dataframe tbody tr th:only-of-type {\n",
       "        vertical-align: middle;\n",
       "    }\n",
       "\n",
       "    .dataframe tbody tr th {\n",
       "        vertical-align: top;\n",
       "    }\n",
       "\n",
       "    .dataframe thead th {\n",
       "        text-align: right;\n",
       "    }\n",
       "</style>\n",
       "<table border=\"1\" class=\"dataframe\">\n",
       "  <thead>\n",
       "    <tr style=\"text-align: right;\">\n",
       "      <th></th>\n",
       "      <th>age</th>\n",
       "      <th>income</th>\n",
       "      <th>children</th>\n",
       "      <th>gender_FEMALE</th>\n",
       "      <th>gender_MALE</th>\n",
       "      <th>region_INNER_CITY</th>\n",
       "      <th>region_RURAL</th>\n",
       "      <th>region_SUBURBAN</th>\n",
       "      <th>region_TOWN</th>\n",
       "      <th>married_NO</th>\n",
       "      <th>...</th>\n",
       "      <th>car_NO</th>\n",
       "      <th>car_YES</th>\n",
       "      <th>savings_acct_NO</th>\n",
       "      <th>savings_acct_YES</th>\n",
       "      <th>current_acct_NO</th>\n",
       "      <th>current_acct_YES</th>\n",
       "      <th>mortgage_NO</th>\n",
       "      <th>mortgage_YES</th>\n",
       "      <th>pep_NO</th>\n",
       "      <th>pep_YES</th>\n",
       "    </tr>\n",
       "  </thead>\n",
       "  <tbody>\n",
       "    <tr>\n",
       "      <th>age</th>\n",
       "      <td>1.000000</td>\n",
       "      <td>0.752726</td>\n",
       "      <td>0.023572</td>\n",
       "      <td>0.090081</td>\n",
       "      <td>-0.090081</td>\n",
       "      <td>-0.025171</td>\n",
       "      <td>0.018635</td>\n",
       "      <td>0.031345</td>\n",
       "      <td>-0.008510</td>\n",
       "      <td>-0.010394</td>\n",
       "      <td>...</td>\n",
       "      <td>-0.077733</td>\n",
       "      <td>0.077733</td>\n",
       "      <td>-0.184389</td>\n",
       "      <td>0.184389</td>\n",
       "      <td>0.035312</td>\n",
       "      <td>-0.035312</td>\n",
       "      <td>0.016154</td>\n",
       "      <td>-0.016154</td>\n",
       "      <td>-0.173825</td>\n",
       "      <td>0.173825</td>\n",
       "    </tr>\n",
       "    <tr>\n",
       "      <th>income</th>\n",
       "      <td>0.752726</td>\n",
       "      <td>1.000000</td>\n",
       "      <td>0.036761</td>\n",
       "      <td>0.023845</td>\n",
       "      <td>-0.023845</td>\n",
       "      <td>-0.047564</td>\n",
       "      <td>0.084776</td>\n",
       "      <td>0.029824</td>\n",
       "      <td>-0.036431</td>\n",
       "      <td>0.008386</td>\n",
       "      <td>...</td>\n",
       "      <td>-0.081556</td>\n",
       "      <td>0.081556</td>\n",
       "      <td>-0.266164</td>\n",
       "      <td>0.266164</td>\n",
       "      <td>-0.031616</td>\n",
       "      <td>0.031616</td>\n",
       "      <td>0.014662</td>\n",
       "      <td>-0.014662</td>\n",
       "      <td>-0.221991</td>\n",
       "      <td>0.221991</td>\n",
       "    </tr>\n",
       "    <tr>\n",
       "      <th>children</th>\n",
       "      <td>0.023572</td>\n",
       "      <td>0.036761</td>\n",
       "      <td>1.000000</td>\n",
       "      <td>0.014206</td>\n",
       "      <td>-0.014206</td>\n",
       "      <td>-0.051222</td>\n",
       "      <td>0.089902</td>\n",
       "      <td>-0.014122</td>\n",
       "      <td>-0.007033</td>\n",
       "      <td>0.048716</td>\n",
       "      <td>...</td>\n",
       "      <td>-0.036455</td>\n",
       "      <td>0.036455</td>\n",
       "      <td>-0.041536</td>\n",
       "      <td>0.041536</td>\n",
       "      <td>-0.006238</td>\n",
       "      <td>0.006238</td>\n",
       "      <td>0.074339</td>\n",
       "      <td>-0.074339</td>\n",
       "      <td>0.057663</td>\n",
       "      <td>-0.057663</td>\n",
       "    </tr>\n",
       "    <tr>\n",
       "      <th>gender_FEMALE</th>\n",
       "      <td>0.090081</td>\n",
       "      <td>0.023845</td>\n",
       "      <td>0.014206</td>\n",
       "      <td>1.000000</td>\n",
       "      <td>-1.000000</td>\n",
       "      <td>-0.023459</td>\n",
       "      <td>-0.009092</td>\n",
       "      <td>-0.010951</td>\n",
       "      <td>0.040472</td>\n",
       "      <td>0.021110</td>\n",
       "      <td>...</td>\n",
       "      <td>0.006667</td>\n",
       "      <td>-0.006667</td>\n",
       "      <td>0.007207</td>\n",
       "      <td>-0.007207</td>\n",
       "      <td>-0.019466</td>\n",
       "      <td>0.019466</td>\n",
       "      <td>0.066465</td>\n",
       "      <td>-0.066465</td>\n",
       "      <td>0.046843</td>\n",
       "      <td>-0.046843</td>\n",
       "    </tr>\n",
       "    <tr>\n",
       "      <th>gender_MALE</th>\n",
       "      <td>-0.090081</td>\n",
       "      <td>-0.023845</td>\n",
       "      <td>-0.014206</td>\n",
       "      <td>-1.000000</td>\n",
       "      <td>1.000000</td>\n",
       "      <td>0.023459</td>\n",
       "      <td>0.009092</td>\n",
       "      <td>0.010951</td>\n",
       "      <td>-0.040472</td>\n",
       "      <td>-0.021110</td>\n",
       "      <td>...</td>\n",
       "      <td>-0.006667</td>\n",
       "      <td>0.006667</td>\n",
       "      <td>-0.007207</td>\n",
       "      <td>0.007207</td>\n",
       "      <td>0.019466</td>\n",
       "      <td>-0.019466</td>\n",
       "      <td>-0.066465</td>\n",
       "      <td>0.066465</td>\n",
       "      <td>-0.046843</td>\n",
       "      <td>0.046843</td>\n",
       "    </tr>\n",
       "    <tr>\n",
       "      <th>region_INNER_CITY</th>\n",
       "      <td>-0.025171</td>\n",
       "      <td>-0.047564</td>\n",
       "      <td>-0.051222</td>\n",
       "      <td>-0.023459</td>\n",
       "      <td>0.023459</td>\n",
       "      <td>1.000000</td>\n",
       "      <td>-0.393444</td>\n",
       "      <td>-0.306032</td>\n",
       "      <td>-0.573814</td>\n",
       "      <td>-0.003254</td>\n",
       "      <td>...</td>\n",
       "      <td>0.018143</td>\n",
       "      <td>-0.018143</td>\n",
       "      <td>0.091373</td>\n",
       "      <td>-0.091373</td>\n",
       "      <td>-0.007894</td>\n",
       "      <td>0.007894</td>\n",
       "      <td>-0.002098</td>\n",
       "      <td>0.002098</td>\n",
       "      <td>-0.001054</td>\n",
       "      <td>0.001054</td>\n",
       "    </tr>\n",
       "    <tr>\n",
       "      <th>region_RURAL</th>\n",
       "      <td>0.018635</td>\n",
       "      <td>0.084776</td>\n",
       "      <td>0.089902</td>\n",
       "      <td>-0.009092</td>\n",
       "      <td>0.009092</td>\n",
       "      <td>-0.393444</td>\n",
       "      <td>1.000000</td>\n",
       "      <td>-0.148158</td>\n",
       "      <td>-0.277798</td>\n",
       "      <td>0.022649</td>\n",
       "      <td>...</td>\n",
       "      <td>-0.024006</td>\n",
       "      <td>0.024006</td>\n",
       "      <td>-0.036960</td>\n",
       "      <td>0.036960</td>\n",
       "      <td>0.008496</td>\n",
       "      <td>-0.008496</td>\n",
       "      <td>0.051908</td>\n",
       "      <td>-0.051908</td>\n",
       "      <td>-0.019714</td>\n",
       "      <td>0.019714</td>\n",
       "    </tr>\n",
       "    <tr>\n",
       "      <th>region_SUBURBAN</th>\n",
       "      <td>0.031345</td>\n",
       "      <td>0.029824</td>\n",
       "      <td>-0.014122</td>\n",
       "      <td>-0.010951</td>\n",
       "      <td>0.010951</td>\n",
       "      <td>-0.306032</td>\n",
       "      <td>-0.148158</td>\n",
       "      <td>1.000000</td>\n",
       "      <td>-0.216080</td>\n",
       "      <td>-0.012483</td>\n",
       "      <td>...</td>\n",
       "      <td>0.061184</td>\n",
       "      <td>-0.061184</td>\n",
       "      <td>-0.002605</td>\n",
       "      <td>0.002605</td>\n",
       "      <td>-0.038157</td>\n",
       "      <td>0.038157</td>\n",
       "      <td>-0.004635</td>\n",
       "      <td>0.004635</td>\n",
       "      <td>-0.062508</td>\n",
       "      <td>0.062508</td>\n",
       "    </tr>\n",
       "    <tr>\n",
       "      <th>region_TOWN</th>\n",
       "      <td>-0.008510</td>\n",
       "      <td>-0.036431</td>\n",
       "      <td>-0.007033</td>\n",
       "      <td>0.040472</td>\n",
       "      <td>-0.040472</td>\n",
       "      <td>-0.573814</td>\n",
       "      <td>-0.277798</td>\n",
       "      <td>-0.216080</td>\n",
       "      <td>1.000000</td>\n",
       "      <td>-0.006369</td>\n",
       "      <td>...</td>\n",
       "      <td>-0.041604</td>\n",
       "      <td>0.041604</td>\n",
       "      <td>-0.068654</td>\n",
       "      <td>0.068654</td>\n",
       "      <td>0.027431</td>\n",
       "      <td>-0.027431</td>\n",
       "      <td>-0.036591</td>\n",
       "      <td>0.036591</td>\n",
       "      <td>0.059115</td>\n",
       "      <td>-0.059115</td>\n",
       "    </tr>\n",
       "    <tr>\n",
       "      <th>married_NO</th>\n",
       "      <td>-0.010394</td>\n",
       "      <td>0.008386</td>\n",
       "      <td>0.048716</td>\n",
       "      <td>0.021110</td>\n",
       "      <td>-0.021110</td>\n",
       "      <td>-0.003254</td>\n",
       "      <td>0.022649</td>\n",
       "      <td>-0.012483</td>\n",
       "      <td>-0.006369</td>\n",
       "      <td>1.000000</td>\n",
       "      <td>...</td>\n",
       "      <td>-0.009571</td>\n",
       "      <td>0.009571</td>\n",
       "      <td>0.028604</td>\n",
       "      <td>-0.028604</td>\n",
       "      <td>-0.059996</td>\n",
       "      <td>0.059996</td>\n",
       "      <td>-0.021711</td>\n",
       "      <td>0.021711</td>\n",
       "      <td>-0.189578</td>\n",
       "      <td>0.189578</td>\n",
       "    </tr>\n",
       "    <tr>\n",
       "      <th>married_YES</th>\n",
       "      <td>0.010394</td>\n",
       "      <td>-0.008386</td>\n",
       "      <td>-0.048716</td>\n",
       "      <td>-0.021110</td>\n",
       "      <td>0.021110</td>\n",
       "      <td>0.003254</td>\n",
       "      <td>-0.022649</td>\n",
       "      <td>0.012483</td>\n",
       "      <td>0.006369</td>\n",
       "      <td>-1.000000</td>\n",
       "      <td>...</td>\n",
       "      <td>0.009571</td>\n",
       "      <td>-0.009571</td>\n",
       "      <td>-0.028604</td>\n",
       "      <td>0.028604</td>\n",
       "      <td>0.059996</td>\n",
       "      <td>-0.059996</td>\n",
       "      <td>0.021711</td>\n",
       "      <td>-0.021711</td>\n",
       "      <td>0.189578</td>\n",
       "      <td>-0.189578</td>\n",
       "    </tr>\n",
       "    <tr>\n",
       "      <th>car_NO</th>\n",
       "      <td>-0.077733</td>\n",
       "      <td>-0.081556</td>\n",
       "      <td>-0.036455</td>\n",
       "      <td>0.006667</td>\n",
       "      <td>-0.006667</td>\n",
       "      <td>0.018143</td>\n",
       "      <td>-0.024006</td>\n",
       "      <td>0.061184</td>\n",
       "      <td>-0.041604</td>\n",
       "      <td>-0.009571</td>\n",
       "      <td>...</td>\n",
       "      <td>1.000000</td>\n",
       "      <td>-1.000000</td>\n",
       "      <td>0.034310</td>\n",
       "      <td>-0.034310</td>\n",
       "      <td>-0.034783</td>\n",
       "      <td>0.034783</td>\n",
       "      <td>-0.007743</td>\n",
       "      <td>0.007743</td>\n",
       "      <td>0.018917</td>\n",
       "      <td>-0.018917</td>\n",
       "    </tr>\n",
       "    <tr>\n",
       "      <th>car_YES</th>\n",
       "      <td>0.077733</td>\n",
       "      <td>0.081556</td>\n",
       "      <td>0.036455</td>\n",
       "      <td>-0.006667</td>\n",
       "      <td>0.006667</td>\n",
       "      <td>-0.018143</td>\n",
       "      <td>0.024006</td>\n",
       "      <td>-0.061184</td>\n",
       "      <td>0.041604</td>\n",
       "      <td>0.009571</td>\n",
       "      <td>...</td>\n",
       "      <td>-1.000000</td>\n",
       "      <td>1.000000</td>\n",
       "      <td>-0.034310</td>\n",
       "      <td>0.034310</td>\n",
       "      <td>0.034783</td>\n",
       "      <td>-0.034783</td>\n",
       "      <td>0.007743</td>\n",
       "      <td>-0.007743</td>\n",
       "      <td>-0.018917</td>\n",
       "      <td>0.018917</td>\n",
       "    </tr>\n",
       "    <tr>\n",
       "      <th>savings_acct_NO</th>\n",
       "      <td>-0.184389</td>\n",
       "      <td>-0.266164</td>\n",
       "      <td>-0.041536</td>\n",
       "      <td>0.007207</td>\n",
       "      <td>-0.007207</td>\n",
       "      <td>0.091373</td>\n",
       "      <td>-0.036960</td>\n",
       "      <td>-0.002605</td>\n",
       "      <td>-0.068654</td>\n",
       "      <td>0.028604</td>\n",
       "      <td>...</td>\n",
       "      <td>0.034310</td>\n",
       "      <td>-0.034310</td>\n",
       "      <td>1.000000</td>\n",
       "      <td>-1.000000</td>\n",
       "      <td>0.042511</td>\n",
       "      <td>-0.042511</td>\n",
       "      <td>-0.001588</td>\n",
       "      <td>0.001588</td>\n",
       "      <td>-0.072779</td>\n",
       "      <td>0.072779</td>\n",
       "    </tr>\n",
       "    <tr>\n",
       "      <th>savings_acct_YES</th>\n",
       "      <td>0.184389</td>\n",
       "      <td>0.266164</td>\n",
       "      <td>0.041536</td>\n",
       "      <td>-0.007207</td>\n",
       "      <td>0.007207</td>\n",
       "      <td>-0.091373</td>\n",
       "      <td>0.036960</td>\n",
       "      <td>0.002605</td>\n",
       "      <td>0.068654</td>\n",
       "      <td>-0.028604</td>\n",
       "      <td>...</td>\n",
       "      <td>-0.034310</td>\n",
       "      <td>0.034310</td>\n",
       "      <td>-1.000000</td>\n",
       "      <td>1.000000</td>\n",
       "      <td>-0.042511</td>\n",
       "      <td>0.042511</td>\n",
       "      <td>0.001588</td>\n",
       "      <td>-0.001588</td>\n",
       "      <td>0.072779</td>\n",
       "      <td>-0.072779</td>\n",
       "    </tr>\n",
       "    <tr>\n",
       "      <th>current_acct_NO</th>\n",
       "      <td>0.035312</td>\n",
       "      <td>-0.031616</td>\n",
       "      <td>-0.006238</td>\n",
       "      <td>-0.019466</td>\n",
       "      <td>0.019466</td>\n",
       "      <td>-0.007894</td>\n",
       "      <td>0.008496</td>\n",
       "      <td>-0.038157</td>\n",
       "      <td>0.027431</td>\n",
       "      <td>-0.059996</td>\n",
       "      <td>...</td>\n",
       "      <td>-0.034783</td>\n",
       "      <td>0.034783</td>\n",
       "      <td>0.042511</td>\n",
       "      <td>-0.042511</td>\n",
       "      <td>1.000000</td>\n",
       "      <td>-1.000000</td>\n",
       "      <td>-0.036704</td>\n",
       "      <td>0.036704</td>\n",
       "      <td>0.025141</td>\n",
       "      <td>-0.025141</td>\n",
       "    </tr>\n",
       "    <tr>\n",
       "      <th>current_acct_YES</th>\n",
       "      <td>-0.035312</td>\n",
       "      <td>0.031616</td>\n",
       "      <td>0.006238</td>\n",
       "      <td>0.019466</td>\n",
       "      <td>-0.019466</td>\n",
       "      <td>0.007894</td>\n",
       "      <td>-0.008496</td>\n",
       "      <td>0.038157</td>\n",
       "      <td>-0.027431</td>\n",
       "      <td>0.059996</td>\n",
       "      <td>...</td>\n",
       "      <td>0.034783</td>\n",
       "      <td>-0.034783</td>\n",
       "      <td>-0.042511</td>\n",
       "      <td>0.042511</td>\n",
       "      <td>-1.000000</td>\n",
       "      <td>1.000000</td>\n",
       "      <td>0.036704</td>\n",
       "      <td>-0.036704</td>\n",
       "      <td>-0.025141</td>\n",
       "      <td>0.025141</td>\n",
       "    </tr>\n",
       "    <tr>\n",
       "      <th>mortgage_NO</th>\n",
       "      <td>0.016154</td>\n",
       "      <td>0.014662</td>\n",
       "      <td>0.074339</td>\n",
       "      <td>0.066465</td>\n",
       "      <td>-0.066465</td>\n",
       "      <td>-0.002098</td>\n",
       "      <td>0.051908</td>\n",
       "      <td>-0.004635</td>\n",
       "      <td>-0.036591</td>\n",
       "      <td>-0.021711</td>\n",
       "      <td>...</td>\n",
       "      <td>-0.007743</td>\n",
       "      <td>0.007743</td>\n",
       "      <td>-0.001588</td>\n",
       "      <td>0.001588</td>\n",
       "      <td>-0.036704</td>\n",
       "      <td>0.036704</td>\n",
       "      <td>1.000000</td>\n",
       "      <td>-1.000000</td>\n",
       "      <td>-0.024182</td>\n",
       "      <td>0.024182</td>\n",
       "    </tr>\n",
       "    <tr>\n",
       "      <th>mortgage_YES</th>\n",
       "      <td>-0.016154</td>\n",
       "      <td>-0.014662</td>\n",
       "      <td>-0.074339</td>\n",
       "      <td>-0.066465</td>\n",
       "      <td>0.066465</td>\n",
       "      <td>0.002098</td>\n",
       "      <td>-0.051908</td>\n",
       "      <td>0.004635</td>\n",
       "      <td>0.036591</td>\n",
       "      <td>0.021711</td>\n",
       "      <td>...</td>\n",
       "      <td>0.007743</td>\n",
       "      <td>-0.007743</td>\n",
       "      <td>0.001588</td>\n",
       "      <td>-0.001588</td>\n",
       "      <td>0.036704</td>\n",
       "      <td>-0.036704</td>\n",
       "      <td>-1.000000</td>\n",
       "      <td>1.000000</td>\n",
       "      <td>0.024182</td>\n",
       "      <td>-0.024182</td>\n",
       "    </tr>\n",
       "    <tr>\n",
       "      <th>pep_NO</th>\n",
       "      <td>-0.173825</td>\n",
       "      <td>-0.221991</td>\n",
       "      <td>0.057663</td>\n",
       "      <td>0.046843</td>\n",
       "      <td>-0.046843</td>\n",
       "      <td>-0.001054</td>\n",
       "      <td>-0.019714</td>\n",
       "      <td>-0.062508</td>\n",
       "      <td>0.059115</td>\n",
       "      <td>-0.189578</td>\n",
       "      <td>...</td>\n",
       "      <td>0.018917</td>\n",
       "      <td>-0.018917</td>\n",
       "      <td>-0.072779</td>\n",
       "      <td>0.072779</td>\n",
       "      <td>0.025141</td>\n",
       "      <td>-0.025141</td>\n",
       "      <td>-0.024182</td>\n",
       "      <td>0.024182</td>\n",
       "      <td>1.000000</td>\n",
       "      <td>-1.000000</td>\n",
       "    </tr>\n",
       "    <tr>\n",
       "      <th>pep_YES</th>\n",
       "      <td>0.173825</td>\n",
       "      <td>0.221991</td>\n",
       "      <td>-0.057663</td>\n",
       "      <td>-0.046843</td>\n",
       "      <td>0.046843</td>\n",
       "      <td>0.001054</td>\n",
       "      <td>0.019714</td>\n",
       "      <td>0.062508</td>\n",
       "      <td>-0.059115</td>\n",
       "      <td>0.189578</td>\n",
       "      <td>...</td>\n",
       "      <td>-0.018917</td>\n",
       "      <td>0.018917</td>\n",
       "      <td>0.072779</td>\n",
       "      <td>-0.072779</td>\n",
       "      <td>-0.025141</td>\n",
       "      <td>0.025141</td>\n",
       "      <td>0.024182</td>\n",
       "      <td>-0.024182</td>\n",
       "      <td>-1.000000</td>\n",
       "      <td>1.000000</td>\n",
       "    </tr>\n",
       "  </tbody>\n",
       "</table>\n",
       "<p>21 rows × 21 columns</p>\n",
       "</div>"
      ],
      "text/plain": [
       "                        age    income  children  gender_FEMALE  gender_MALE  \\\n",
       "age                1.000000  0.752726  0.023572       0.090081    -0.090081   \n",
       "income             0.752726  1.000000  0.036761       0.023845    -0.023845   \n",
       "children           0.023572  0.036761  1.000000       0.014206    -0.014206   \n",
       "gender_FEMALE      0.090081  0.023845  0.014206       1.000000    -1.000000   \n",
       "gender_MALE       -0.090081 -0.023845 -0.014206      -1.000000     1.000000   \n",
       "region_INNER_CITY -0.025171 -0.047564 -0.051222      -0.023459     0.023459   \n",
       "region_RURAL       0.018635  0.084776  0.089902      -0.009092     0.009092   \n",
       "region_SUBURBAN    0.031345  0.029824 -0.014122      -0.010951     0.010951   \n",
       "region_TOWN       -0.008510 -0.036431 -0.007033       0.040472    -0.040472   \n",
       "married_NO        -0.010394  0.008386  0.048716       0.021110    -0.021110   \n",
       "married_YES        0.010394 -0.008386 -0.048716      -0.021110     0.021110   \n",
       "car_NO            -0.077733 -0.081556 -0.036455       0.006667    -0.006667   \n",
       "car_YES            0.077733  0.081556  0.036455      -0.006667     0.006667   \n",
       "savings_acct_NO   -0.184389 -0.266164 -0.041536       0.007207    -0.007207   \n",
       "savings_acct_YES   0.184389  0.266164  0.041536      -0.007207     0.007207   \n",
       "current_acct_NO    0.035312 -0.031616 -0.006238      -0.019466     0.019466   \n",
       "current_acct_YES  -0.035312  0.031616  0.006238       0.019466    -0.019466   \n",
       "mortgage_NO        0.016154  0.014662  0.074339       0.066465    -0.066465   \n",
       "mortgage_YES      -0.016154 -0.014662 -0.074339      -0.066465     0.066465   \n",
       "pep_NO            -0.173825 -0.221991  0.057663       0.046843    -0.046843   \n",
       "pep_YES            0.173825  0.221991 -0.057663      -0.046843     0.046843   \n",
       "\n",
       "                   region_INNER_CITY  region_RURAL  region_SUBURBAN  \\\n",
       "age                        -0.025171      0.018635         0.031345   \n",
       "income                     -0.047564      0.084776         0.029824   \n",
       "children                   -0.051222      0.089902        -0.014122   \n",
       "gender_FEMALE              -0.023459     -0.009092        -0.010951   \n",
       "gender_MALE                 0.023459      0.009092         0.010951   \n",
       "region_INNER_CITY           1.000000     -0.393444        -0.306032   \n",
       "region_RURAL               -0.393444      1.000000        -0.148158   \n",
       "region_SUBURBAN            -0.306032     -0.148158         1.000000   \n",
       "region_TOWN                -0.573814     -0.277798        -0.216080   \n",
       "married_NO                 -0.003254      0.022649        -0.012483   \n",
       "married_YES                 0.003254     -0.022649         0.012483   \n",
       "car_NO                      0.018143     -0.024006         0.061184   \n",
       "car_YES                    -0.018143      0.024006        -0.061184   \n",
       "savings_acct_NO             0.091373     -0.036960        -0.002605   \n",
       "savings_acct_YES           -0.091373      0.036960         0.002605   \n",
       "current_acct_NO            -0.007894      0.008496        -0.038157   \n",
       "current_acct_YES            0.007894     -0.008496         0.038157   \n",
       "mortgage_NO                -0.002098      0.051908        -0.004635   \n",
       "mortgage_YES                0.002098     -0.051908         0.004635   \n",
       "pep_NO                     -0.001054     -0.019714        -0.062508   \n",
       "pep_YES                     0.001054      0.019714         0.062508   \n",
       "\n",
       "                   region_TOWN  married_NO    ...       car_NO   car_YES  \\\n",
       "age                  -0.008510   -0.010394    ...    -0.077733  0.077733   \n",
       "income               -0.036431    0.008386    ...    -0.081556  0.081556   \n",
       "children             -0.007033    0.048716    ...    -0.036455  0.036455   \n",
       "gender_FEMALE         0.040472    0.021110    ...     0.006667 -0.006667   \n",
       "gender_MALE          -0.040472   -0.021110    ...    -0.006667  0.006667   \n",
       "region_INNER_CITY    -0.573814   -0.003254    ...     0.018143 -0.018143   \n",
       "region_RURAL         -0.277798    0.022649    ...    -0.024006  0.024006   \n",
       "region_SUBURBAN      -0.216080   -0.012483    ...     0.061184 -0.061184   \n",
       "region_TOWN           1.000000   -0.006369    ...    -0.041604  0.041604   \n",
       "married_NO           -0.006369    1.000000    ...    -0.009571  0.009571   \n",
       "married_YES           0.006369   -1.000000    ...     0.009571 -0.009571   \n",
       "car_NO               -0.041604   -0.009571    ...     1.000000 -1.000000   \n",
       "car_YES               0.041604    0.009571    ...    -1.000000  1.000000   \n",
       "savings_acct_NO      -0.068654    0.028604    ...     0.034310 -0.034310   \n",
       "savings_acct_YES      0.068654   -0.028604    ...    -0.034310  0.034310   \n",
       "current_acct_NO       0.027431   -0.059996    ...    -0.034783  0.034783   \n",
       "current_acct_YES     -0.027431    0.059996    ...     0.034783 -0.034783   \n",
       "mortgage_NO          -0.036591   -0.021711    ...    -0.007743  0.007743   \n",
       "mortgage_YES          0.036591    0.021711    ...     0.007743 -0.007743   \n",
       "pep_NO                0.059115   -0.189578    ...     0.018917 -0.018917   \n",
       "pep_YES              -0.059115    0.189578    ...    -0.018917  0.018917   \n",
       "\n",
       "                   savings_acct_NO  savings_acct_YES  current_acct_NO  \\\n",
       "age                      -0.184389          0.184389         0.035312   \n",
       "income                   -0.266164          0.266164        -0.031616   \n",
       "children                 -0.041536          0.041536        -0.006238   \n",
       "gender_FEMALE             0.007207         -0.007207        -0.019466   \n",
       "gender_MALE              -0.007207          0.007207         0.019466   \n",
       "region_INNER_CITY         0.091373         -0.091373        -0.007894   \n",
       "region_RURAL             -0.036960          0.036960         0.008496   \n",
       "region_SUBURBAN          -0.002605          0.002605        -0.038157   \n",
       "region_TOWN              -0.068654          0.068654         0.027431   \n",
       "married_NO                0.028604         -0.028604        -0.059996   \n",
       "married_YES              -0.028604          0.028604         0.059996   \n",
       "car_NO                    0.034310         -0.034310        -0.034783   \n",
       "car_YES                  -0.034310          0.034310         0.034783   \n",
       "savings_acct_NO           1.000000         -1.000000         0.042511   \n",
       "savings_acct_YES         -1.000000          1.000000        -0.042511   \n",
       "current_acct_NO           0.042511         -0.042511         1.000000   \n",
       "current_acct_YES         -0.042511          0.042511        -1.000000   \n",
       "mortgage_NO              -0.001588          0.001588        -0.036704   \n",
       "mortgage_YES              0.001588         -0.001588         0.036704   \n",
       "pep_NO                   -0.072779          0.072779         0.025141   \n",
       "pep_YES                   0.072779         -0.072779        -0.025141   \n",
       "\n",
       "                   current_acct_YES  mortgage_NO  mortgage_YES    pep_NO  \\\n",
       "age                       -0.035312     0.016154     -0.016154 -0.173825   \n",
       "income                     0.031616     0.014662     -0.014662 -0.221991   \n",
       "children                   0.006238     0.074339     -0.074339  0.057663   \n",
       "gender_FEMALE              0.019466     0.066465     -0.066465  0.046843   \n",
       "gender_MALE               -0.019466    -0.066465      0.066465 -0.046843   \n",
       "region_INNER_CITY          0.007894    -0.002098      0.002098 -0.001054   \n",
       "region_RURAL              -0.008496     0.051908     -0.051908 -0.019714   \n",
       "region_SUBURBAN            0.038157    -0.004635      0.004635 -0.062508   \n",
       "region_TOWN               -0.027431    -0.036591      0.036591  0.059115   \n",
       "married_NO                 0.059996    -0.021711      0.021711 -0.189578   \n",
       "married_YES               -0.059996     0.021711     -0.021711  0.189578   \n",
       "car_NO                     0.034783    -0.007743      0.007743  0.018917   \n",
       "car_YES                   -0.034783     0.007743     -0.007743 -0.018917   \n",
       "savings_acct_NO           -0.042511    -0.001588      0.001588 -0.072779   \n",
       "savings_acct_YES           0.042511     0.001588     -0.001588  0.072779   \n",
       "current_acct_NO           -1.000000    -0.036704      0.036704  0.025141   \n",
       "current_acct_YES           1.000000     0.036704     -0.036704 -0.025141   \n",
       "mortgage_NO                0.036704     1.000000     -1.000000 -0.024182   \n",
       "mortgage_YES              -0.036704    -1.000000      1.000000  0.024182   \n",
       "pep_NO                    -0.025141    -0.024182      0.024182  1.000000   \n",
       "pep_YES                    0.025141     0.024182     -0.024182 -1.000000   \n",
       "\n",
       "                    pep_YES  \n",
       "age                0.173825  \n",
       "income             0.221991  \n",
       "children          -0.057663  \n",
       "gender_FEMALE     -0.046843  \n",
       "gender_MALE        0.046843  \n",
       "region_INNER_CITY  0.001054  \n",
       "region_RURAL       0.019714  \n",
       "region_SUBURBAN    0.062508  \n",
       "region_TOWN       -0.059115  \n",
       "married_NO         0.189578  \n",
       "married_YES       -0.189578  \n",
       "car_NO            -0.018917  \n",
       "car_YES            0.018917  \n",
       "savings_acct_NO    0.072779  \n",
       "savings_acct_YES  -0.072779  \n",
       "current_acct_NO   -0.025141  \n",
       "current_acct_YES   0.025141  \n",
       "mortgage_NO        0.024182  \n",
       "mortgage_YES      -0.024182  \n",
       "pep_NO            -1.000000  \n",
       "pep_YES            1.000000  \n",
       "\n",
       "[21 rows x 21 columns]"
      ]
     },
     "execution_count": 24,
     "metadata": {},
     "output_type": "execute_result"
    }
   ],
   "source": [
    "#make a correlation matrix\n",
    "bank_numeric.corr()"
   ]
  },
  {
   "cell_type": "markdown",
   "metadata": {},
   "source": [
    "8.Using Matplotlib library and/or ploting capabilities of Pandas, create a scatter plot of the (non-normalized)\n",
    "Income attribute relative to Age. Be sure that your plot contains appropriate labels for the axes. Do these\n",
    "variables seem correlated?"
   ]
  },
  {
   "cell_type": "code",
   "execution_count": 25,
   "metadata": {},
   "outputs": [
    {
     "data": {
      "text/plain": [
       "<matplotlib.axes._subplots.AxesSubplot at 0x125efb56c50>"
      ]
     },
     "execution_count": 25,
     "metadata": {},
     "output_type": "execute_result"
    },
    {
     "data": {
      "image/png": "[encoded data removed]",
      "text/plain": [
       "<Figure size 432x288 with 1 Axes>"
      ]
     },
     "metadata": {
      "needs_background": "light"
     },
     "output_type": "display_data"
    },
    {
     "data": {
      "image/png": "[encoded data removed]",
      "text/plain": [
       "<Figure size 432x288 with 1 Axes>"
      ]
     },
     "metadata": {
      "needs_background": "light"
     },
     "output_type": "display_data"
    }
   ],
   "source": [
    "#create scatterplot of non-normalized data\n",
    "bank = pd.read_csv(\"bank_data.csv\", index_col=0)\n",
    "bank.plot(x=\"income\", y=\"age\", kind=\"scatter\")\n",
    "#create scatterplot of normalized data (just to see and compare)\n",
    "banktable.plot(x=\"income\", y=\"age\", kind=\"scatter\")"
   ]
  },
  {
   "cell_type": "markdown",
   "metadata": {},
   "source": [
    "Answer #8:\n",
    "Yes, these two values (income and age) seem highly positively correlated.  Meaning that as age increases so does income.  From the correlation matrix the values have a correlation of 0.75"
   ]
  },
  {
   "cell_type": "markdown",
   "metadata": {},
   "source": [
    "9.Create histograms for (non-normalized) Income (using 9 bins) and Age (using 15 bins)."
   ]
  },
  {
   "cell_type": "code",
   "execution_count": 26,
   "metadata": {},
   "outputs": [
    {
     "data": {
      "text/plain": [
       "Text(0.5, 1.0, 'Histogram of Age (15 bins)')"
      ]
     },
     "execution_count": 26,
     "metadata": {},
     "output_type": "execute_result"
    },
    {
     "data": {
      "image/png": "[encoded data removed]",
      "text/plain": [
       "<Figure size 432x288 with 2 Axes>"
      ]
     },
     "metadata": {
      "needs_background": "light"
     },
     "output_type": "display_data"
    }
   ],
   "source": [
    "#banktable_nonPEP['region'].value_counts().plot(kind='bar')\n",
    "plt.figure(1)\n",
    "plt.subplot(1,2,1)\n",
    "bank['income'].hist(bins=9)\n",
    "plt.title('Histogram of Income (9 bins)')\n",
    "plt.subplot(1,2,2)\n",
    "bank['age'].hist(bins=15)\n",
    "plt.title('Histogram of Age (15 bins)')"
   ]
  },
  {
   "cell_type": "markdown",
   "metadata": {},
   "source": [
    "10.Using a bar graph, plot the distribution of the values of the region attribute."
   ]
  },
  {
   "cell_type": "code",
   "execution_count": 27,
   "metadata": {},
   "outputs": [
    {
     "data": {
      "text/plain": [
       "<matplotlib.axes._subplots.AxesSubplot at 0x125f0c44828>"
      ]
     },
     "execution_count": 27,
     "metadata": {},
     "output_type": "execute_result"
    },
    {
     "data": {
      "image/png": "[encoded data removed]",
      "text/plain": [
       "<Figure size 432x288 with 1 Axes>"
      ]
     },
     "metadata": {
      "needs_background": "light"
     },
     "output_type": "display_data"
    }
   ],
   "source": [
    "#plot the distribution of the region attributes\n",
    "bank['region'].value_counts().plot(kind='bar')"
   ]
  },
  {
   "cell_type": "markdown",
   "metadata": {},
   "source": [
    "11.Perform a cross-tabulation of the region attribute with the pep attribute. This requires the aggregation of\n",
    "the occurrences of each pep value (yes or no) separately for each value of the region attribute. Show the\n",
    "results as a 4 by 2 (region x pep) table with entries representing the counts. [Hint: you can either use\n",
    "Numpy or use aggregations functions in Pandas such as groupby() and cross-tab().] Then, either using\n",
    "Matplotlib directly or the plot() function in Pandas create a bar chart graph to visualize of the relationships\n",
    "between these sets of variables. [Hint: This example of creating simple bar charts using Matplotlib may be\n",
    "useful.]"
   ]
  },
  {
   "cell_type": "code",
   "execution_count": 28,
   "metadata": {},
   "outputs": [
    {
     "data": {
      "text/plain": [
       "Text(0.5, 1.0, 'Bank Customers with a PEP Account')"
      ]
     },
     "execution_count": 28,
     "metadata": {},
     "output_type": "execute_result"
    },
    {
     "data": {
      "image/png": "[encoded data removed]",
      "text/plain": [
       "<Figure size 432x288 with 1 Axes>"
      ]
     },
     "metadata": {
      "needs_background": "light"
     },
     "output_type": "display_data"
    }
   ],
   "source": [
    "#first change each column in the data frame to a series\n",
    "\n",
    "pep = np.array(bank['pep'])\n",
    "reg = np.array(bank['region'])\n",
    "#print(pep)\n",
    "#print(reg)\n",
    "\n",
    "#show the cross-tabulation table \n",
    "pd.crosstab(reg,pep)\n",
    "#bank.crosstab(region, pep, rownames=['region'],colnames=['pep'])\n",
    "crossT = pd.crosstab(reg,pep)\n",
    "ax = crossT.plot(kind='bar',stacked=False, color=['red','blue'])\n",
    "ax.set_xlabel('regions')\n",
    "ax.set_title('Bank Customers with a PEP Account')\n"
   ]
  },
  {
   "cell_type": "markdown",
   "metadata": {},
   "source": [
    "This bar chart gives a good comparison of the PEP vs. non-PEP customers.  Even though their individual bar charts appear to have a similar distribution youc an see the difference much better in this chart (answer to #2 above)"
   ]
  }
 ],
 "metadata": {
  "kernelspec": {
   "display_name": "Python 3",
   "language": "python",
   "name": "python3"
  },
  "language_info": {
   "codemirror_mode": {
    "name": "ipython",
    "version": 3
   },
   "file_extension": ".py",
   "mimetype": "text/x-python",
   "name": "python",
   "nbconvert_exporter": "python",
   "pygments_lexer": "ipython3",
   "version": "3.7.1"
  }
 },
 "nbformat": 4,
 "nbformat_minor": 2
}
